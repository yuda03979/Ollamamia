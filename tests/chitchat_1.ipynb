{
 "cells": [
  {
   "cell_type": "code",
   "id": "initial_id",
   "metadata": {
    "collapsed": true,
    "ExecuteTime": {
     "end_time": "2024-12-18T02:23:18.480528Z",
     "start_time": "2024-12-18T02:23:18.477473Z"
    }
   },
   "source": "from src.model import Chat",
   "outputs": [],
   "execution_count": 3
  },
  {
   "metadata": {
    "ExecuteTime": {
     "end_time": "2024-12-18T02:23:18.744610Z",
     "start_time": "2024-12-18T02:23:18.742126Z"
    }
   },
   "cell_type": "code",
   "source": "chat = Chat(model_name=\"gemma2:2b\")",
   "id": "ce2ecccfa3d22174",
   "outputs": [],
   "execution_count": 4
  },
  {
   "metadata": {
    "ExecuteTime": {
     "end_time": "2024-12-18T02:23:27.907059Z",
     "start_time": "2024-12-18T02:23:27.534795Z"
    }
   },
   "cell_type": "code",
   "source": "chat << \"hello\"",
   "id": "a95c55132f46e20c",
   "outputs": [
    {
     "data": {
      "text/plain": [
       "'Hello! 👋  How can I help you today? 😊 \\n'"
      ]
     },
     "execution_count": 5,
     "metadata": {},
     "output_type": "execute_result"
    }
   ],
   "execution_count": 5
  },
  {
   "metadata": {},
   "cell_type": "code",
   "outputs": [],
   "execution_count": null,
   "source": "",
   "id": "eb1ec0f73a6bfa69"
  }
 ],
 "metadata": {
  "kernelspec": {
   "display_name": "Python 3",
   "language": "python",
   "name": "python3"
  },
  "language_info": {
   "codemirror_mode": {
    "name": "ipython",
    "version": 2
   },
   "file_extension": ".py",
   "mimetype": "text/x-python",
   "name": "python",
   "nbconvert_exporter": "python",
   "pygments_lexer": "ipython2",
   "version": "2.7.6"
  }
 },
 "nbformat": 4,
 "nbformat_minor": 5
}
