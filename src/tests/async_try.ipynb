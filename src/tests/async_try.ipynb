{
 "cells": [
  {
   "cell_type": "code",
   "id": "initial_id",
   "metadata": {
    "collapsed": true,
    "ExecuteTime": {
     "end_time": "2025-01-06T17:56:14.775122Z",
     "start_time": "2025-01-06T17:56:13.985887Z"
    }
   },
   "source": [
    "import asyncio\n",
    "from src.ollamamia.models_manager import AsyncModelsManager\n",
    "\n",
    "async_manager = AsyncModelsManager()\n",
    "\n",
    "async_manager[\"gemma1\"] = slice(\"ollama\", \"gemma-2-2b-it-Q8_0:rig\", \"generate\")\n"
   ],
   "outputs": [],
   "execution_count": 1
  },
  {
   "metadata": {
    "ExecuteTime": {
     "end_time": "2025-01-06T17:56:46.745593Z",
     "start_time": "2025-01-06T17:56:42.782021Z"
    }
   },
   "cell_type": "code",
   "source": "result = await async_manager.infer_async(\"gemma1\", \"query\")\n",
   "id": "402268f6827eb687",
   "outputs": [
    {
     "name": "stderr",
     "output_type": "stream",
     "text": [
      "/var/folders/tw/t4_6l2cn5hz3hqm6tjzgwk5c0000gn/T/ipykernel_9952/1786455487.py:1: RuntimeWarning: coroutine 'AsyncModelsManager.infer_async' was never awaited\n",
      "  result = await async_manager.infer_async(\"gemma1\", \"query\")\n",
      "RuntimeWarning: Enable tracemalloc to get the object allocation traceback\n"
     ]
    }
   ],
   "execution_count": 4
  },
  {
   "metadata": {},
   "cell_type": "code",
   "outputs": [],
   "execution_count": null,
   "source": "result",
   "id": "cc8dbb0956d70aac"
  },
  {
   "metadata": {
    "ExecuteTime": {
     "end_time": "2025-01-06T17:58:04.784084Z",
     "start_time": "2025-01-06T17:58:04.488935Z"
    }
   },
   "cell_type": "code",
   "source": "",
   "id": "d84fee48b28f6269",
   "outputs": [
    {
     "ename": "RuntimeError",
     "evalue": "asyncio.run() cannot be called from a running event loop",
     "output_type": "error",
     "traceback": [
      "\u001B[0;31m---------------------------------------------------------------------------\u001B[0m",
      "\u001B[0;31mRuntimeError\u001B[0m                              Traceback (most recent call last)",
      "Cell \u001B[0;32mIn[5], line 11\u001B[0m\n\u001B[1;32m      8\u001B[0m     \u001B[38;5;28;01mreturn\u001B[39;00m result\n\u001B[1;32m     10\u001B[0m \u001B[38;5;66;03m# Run it\u001B[39;00m\n\u001B[0;32m---> 11\u001B[0m result \u001B[38;5;241m=\u001B[39m asyncio\u001B[38;5;241m.\u001B[39mrun(main())\n",
      "File \u001B[0;32m/opt/anaconda3/lib/python3.12/asyncio/runners.py:190\u001B[0m, in \u001B[0;36mrun\u001B[0;34m(main, debug, loop_factory)\u001B[0m\n\u001B[1;32m    161\u001B[0m \u001B[38;5;250m\u001B[39m\u001B[38;5;124;03m\"\"\"Execute the coroutine and return the result.\u001B[39;00m\n\u001B[1;32m    162\u001B[0m \n\u001B[1;32m    163\u001B[0m \u001B[38;5;124;03mThis function runs the passed coroutine, taking care of\u001B[39;00m\n\u001B[0;32m   (...)\u001B[0m\n\u001B[1;32m    186\u001B[0m \u001B[38;5;124;03m    asyncio.run(main())\u001B[39;00m\n\u001B[1;32m    187\u001B[0m \u001B[38;5;124;03m\"\"\"\u001B[39;00m\n\u001B[1;32m    188\u001B[0m \u001B[38;5;28;01mif\u001B[39;00m events\u001B[38;5;241m.\u001B[39m_get_running_loop() \u001B[38;5;129;01mis\u001B[39;00m \u001B[38;5;129;01mnot\u001B[39;00m \u001B[38;5;28;01mNone\u001B[39;00m:\n\u001B[1;32m    189\u001B[0m     \u001B[38;5;66;03m# fail fast with short traceback\u001B[39;00m\n\u001B[0;32m--> 190\u001B[0m     \u001B[38;5;28;01mraise\u001B[39;00m \u001B[38;5;167;01mRuntimeError\u001B[39;00m(\n\u001B[1;32m    191\u001B[0m         \u001B[38;5;124m\"\u001B[39m\u001B[38;5;124masyncio.run() cannot be called from a running event loop\u001B[39m\u001B[38;5;124m\"\u001B[39m)\n\u001B[1;32m    193\u001B[0m \u001B[38;5;28;01mwith\u001B[39;00m Runner(debug\u001B[38;5;241m=\u001B[39mdebug, loop_factory\u001B[38;5;241m=\u001B[39mloop_factory) \u001B[38;5;28;01mas\u001B[39;00m runner:\n\u001B[1;32m    194\u001B[0m     \u001B[38;5;28;01mreturn\u001B[39;00m runner\u001B[38;5;241m.\u001B[39mrun(main)\n",
      "\u001B[0;31mRuntimeError\u001B[0m: asyncio.run() cannot be called from a running event loop"
     ]
    }
   ],
   "execution_count": 5
  },
  {
   "metadata": {
    "ExecuteTime": {
     "end_time": "2025-01-06T17:58:12.364401Z",
     "start_time": "2025-01-06T17:58:10.217597Z"
    }
   },
   "cell_type": "code",
   "source": "await main()",
   "id": "dfe04cb0b64761cc",
   "outputs": [
    {
     "data": {
      "text/plain": [
       "\"Please provide me with the query you want to ask! I need a bit more information to help you. \\n\\nFor example, tell me:\\n\\n* **What subject are you interested in?** (e.g., history, science, technology, travel)\\n* **What do you want to know?** (e.g., facts, definitions, summaries, advice)\\n* **Are there any specific keywords or phrases you're using?** \\n\\nThe more details you give me, the better I can understand your query and provide a helpful response! 😊 \\n\""
      ]
     },
     "execution_count": 6,
     "metadata": {},
     "output_type": "execute_result"
    }
   ],
   "execution_count": 6
  },
  {
   "metadata": {},
   "cell_type": "code",
   "outputs": [],
   "execution_count": null,
   "source": "",
   "id": "2c7a6679a3416f73"
  }
 ],
 "metadata": {
  "kernelspec": {
   "display_name": "Python 3",
   "language": "python",
   "name": "python3"
  },
  "language_info": {
   "codemirror_mode": {
    "name": "ipython",
    "version": 2
   },
   "file_extension": ".py",
   "mimetype": "text/x-python",
   "name": "python",
   "nbconvert_exporter": "python",
   "pygments_lexer": "ipython2",
   "version": "2.7.6"
  }
 },
 "nbformat": 4,
 "nbformat_minor": 5
}
