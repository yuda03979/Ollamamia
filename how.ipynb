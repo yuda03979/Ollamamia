{
 "cells": [
  {
   "cell_type": "code",
   "id": "initial_id",
   "metadata": {
    "collapsed": true,
    "ExecuteTime": {
     "end_time": "2024-12-23T09:08:20.757838Z",
     "start_time": "2024-12-23T09:08:20.494739Z"
    }
   },
   "source": "from src.ollamamia import Ollamamia",
   "outputs": [],
   "execution_count": 1
  },
  {
   "metadata": {
    "ExecuteTime": {
     "end_time": "2024-12-23T09:08:21.982030Z",
     "start_time": "2024-12-23T09:08:21.963459Z"
    }
   },
   "cell_type": "code",
   "source": "ollamamia = Ollamamia(on_docker=False)",
   "id": "9bf6ef756a0b7d8c",
   "outputs": [],
   "execution_count": 2
  },
  {
   "metadata": {
    "ExecuteTime": {
     "end_time": "2024-12-22T12:08:48.753912Z",
     "start_time": "2024-12-22T12:08:48.751246Z"
    }
   },
   "cell_type": "code",
   "source": [
    "model_config = ollamamia.model_config(model_name=\"gemma2:2b\", task=\"generate\")\n",
    "model_config.options.temperature = 0.0"
   ],
   "id": "d4106c5a776a477c",
   "outputs": [],
   "execution_count": 3
  },
  {
   "metadata": {
    "ExecuteTime": {
     "end_time": "2024-12-22T12:09:17.336801Z",
     "start_time": "2024-12-22T12:09:17.334418Z"
    }
   },
   "cell_type": "code",
   "source": "model_config.options.num_predict = 100\n",
   "id": "7524337dc87ec0d1",
   "outputs": [],
   "execution_count": 7
  },
  {
   "metadata": {
    "ExecuteTime": {
     "end_time": "2024-12-22T12:08:50.610193Z",
     "start_time": "2024-12-22T12:08:50.606941Z"
    }
   },
   "cell_type": "code",
   "source": "ollamamia[\"gemma2:2b\"] = model_config",
   "id": "645be39e091efb32",
   "outputs": [],
   "execution_count": 5
  },
  {
   "metadata": {
    "ExecuteTime": {
     "end_time": "2024-12-22T12:09:25.353252Z",
     "start_time": "2024-12-22T12:09:24.221870Z"
    }
   },
   "cell_type": "code",
   "source": "ollamamia[\"gemma2:2b\"] << \"it should be json. morning is 1, night is 0\"",
   "id": "739b967bf4463a63",
   "outputs": [
    {
     "data": {
      "text/plain": [
       "'{\\n  \"status\": \"morning\",\\n  \"time\": 1\\n}\\n\\n\\n \\n  \\n  \\n  \\n  \\n  \\n  \\n  \\n  \\n  \\n  \\n  \\n  \\n  \\n  \\n'"
      ]
     },
     "execution_count": 9,
     "metadata": {},
     "output_type": "execute_result"
    }
   ],
   "execution_count": 9
  },
  {
   "metadata": {
    "ExecuteTime": {
     "end_time": "2024-12-22T12:09:21.032915Z",
     "start_time": "2024-12-22T12:09:21.029714Z"
    }
   },
   "cell_type": "code",
   "source": "model_config.format = \"json\"",
   "id": "29c45ed6aa1bea72",
   "outputs": [],
   "execution_count": 8
  },
  {
   "metadata": {
    "ExecuteTime": {
     "end_time": "2024-12-22T10:32:27.820358Z",
     "start_time": "2024-12-22T10:32:27.817535Z"
    }
   },
   "cell_type": "code",
   "source": "print(ollamamia._models_control.models['gemma2:2b'].config.options.num_predict)",
   "id": "7c0cee539acbf308",
   "outputs": [
    {
     "name": "stdout",
     "output_type": "stream",
     "text": [
      "None\n"
     ]
    }
   ],
   "execution_count": 15
  },
  {
   "metadata": {},
   "cell_type": "markdown",
   "source": "# help",
   "id": "38bbb57c6f913457"
  },
  {
   "metadata": {
    "ExecuteTime": {
     "end_time": "2024-12-22T01:17:15.873438Z",
     "start_time": "2024-12-22T01:17:15.646149Z"
    }
   },
   "cell_type": "code",
   "source": "ollamamia.Luminary()",
   "id": "da99d7d2447067e8",
   "outputs": [
    {
     "ename": "AttributeError",
     "evalue": "'Ollamamia' object has no attribute 'Luminary'",
     "output_type": "error",
     "traceback": [
      "\u001B[0;31m---------------------------------------------------------------------------\u001B[0m",
      "\u001B[0;31mAttributeError\u001B[0m                            Traceback (most recent call last)",
      "Cell \u001B[0;32mIn[7], line 1\u001B[0m\n\u001B[0;32m----> 1\u001B[0m ollamamia\u001B[38;5;241m.\u001B[39mLuminary()\n",
      "\u001B[0;31mAttributeError\u001B[0m: 'Ollamamia' object has no attribute 'Luminary'"
     ]
    }
   ],
   "execution_count": 7
  },
  {
   "metadata": {
    "ExecuteTime": {
     "end_time": "2024-12-23T09:09:28.991249Z",
     "start_time": "2024-12-23T09:09:28.988408Z"
    }
   },
   "cell_type": "code",
   "source": "model_config = ollamamia.model_config(model_name=\"snowflake-arctic-embed:137m\", task=\"embed\")",
   "id": "b361733061dc4f47",
   "outputs": [],
   "execution_count": 3
  },
  {
   "metadata": {
    "ExecuteTime": {
     "end_time": "2024-12-23T09:09:29.310377Z",
     "start_time": "2024-12-23T09:09:29.307858Z"
    }
   },
   "cell_type": "code",
   "source": "ollamamia[\"model_1\"] = model_config",
   "id": "7a1351bf426241c4",
   "outputs": [],
   "execution_count": 4
  },
  {
   "metadata": {
    "ExecuteTime": {
     "end_time": "2024-12-23T09:11:02.753993Z",
     "start_time": "2024-12-23T09:11:02.445111Z"
    }
   },
   "cell_type": "code",
   "source": [
    "for i in range(20):\n",
    "    ollamamia[\"model_1\"] << \"\"\"\n",
    "    hello how are you pass (a liquid, gas, light, or sound) through a device\n",
    "     to remove unwante material. the patient is hooked up to a dialysis machine twice a week\n",
    "      to filter out the cholesterol in the blood\n",
    "      \"\"\""
   ],
   "id": "c12999a76713faa9",
   "outputs": [],
   "execution_count": 8
  },
  {
   "metadata": {},
   "cell_type": "code",
   "outputs": [],
   "execution_count": null,
   "source": "",
   "id": "f0ffd74d7d5dbed3"
  }
 ],
 "metadata": {
  "kernelspec": {
   "display_name": "Python 3",
   "language": "python",
   "name": "python3"
  },
  "language_info": {
   "codemirror_mode": {
    "name": "ipython",
    "version": 2
   },
   "file_extension": ".py",
   "mimetype": "text/x-python",
   "name": "python",
   "nbconvert_exporter": "python",
   "pygments_lexer": "ipython2",
   "version": "2.7.6"
  }
 },
 "nbformat": 4,
 "nbformat_minor": 5
}
