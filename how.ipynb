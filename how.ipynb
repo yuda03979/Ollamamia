{
 "cells": [
  {
   "cell_type": "code",
   "execution_count": null,
   "id": "initial_id",
   "metadata": {
    "collapsed": true
   },
   "outputs": [],
   "source": "import ollamamia"
  },
  {
   "metadata": {},
   "cell_type": "markdown",
   "source": "# manage models",
   "id": "4f2a08d003433d56"
  },
  {
   "metadata": {},
   "cell_type": "code",
   "outputs": [],
   "execution_count": null,
   "source": "ollamamia.model(model_name=\"\", _from=\"\", _to=\"\")",
   "id": "58980b17ac40a859"
  },
  {
   "metadata": {},
   "cell_type": "markdown",
   "source": "# infer",
   "id": "4f6e55a7359bcc35"
  },
  {
   "metadata": {},
   "cell_type": "code",
   "outputs": [],
   "execution_count": null,
   "source": [
    "query = \"\"\"\"\"\"\n",
    "\n",
    "model = ollamamia.init.chat()\n",
    "model = ollamamia.init.generate()\n",
    "model = ollamamia.init.embed()\n",
    "\n",
    "infer = model << query  # support batching"
   ],
   "id": "fbbce2dd925f2533"
  },
  {
   "metadata": {},
   "cell_type": "code",
   "outputs": [],
   "execution_count": null,
   "source": "model.logs()  # to see all the history",
   "id": "cb156269a842136c"
  },
  {
   "metadata": {},
   "cell_type": "markdown",
   "source": "# tools",
   "id": "51557c2c63733604"
  },
  {
   "metadata": {},
   "cell_type": "code",
   "outputs": [],
   "execution_count": null,
   "source": "# ?",
   "id": "af412b86d073e185"
  },
  {
   "metadata": {},
   "cell_type": "markdown",
   "source": "# cli chat",
   "id": "2a6bcad3bd26a077"
  },
  {
   "metadata": {},
   "cell_type": "code",
   "outputs": [],
   "execution_count": null,
   "source": [
    "prompt = \"\"\n",
    "model = ollamamia.init.cli_chat()\n",
    "\n",
    "model << prompt"
   ],
   "id": "e2033077314328e1"
  },
  {
   "metadata": {},
   "cell_type": "markdown",
   "source": "# manage Ollama",
   "id": "4188b06b763c8f8f"
  },
  {
   "metadata": {},
   "cell_type": "code",
   "outputs": [],
   "execution_count": null,
   "source": "model.stop()",
   "id": "5019a8de44026980"
  },
  {
   "metadata": {},
   "cell_type": "code",
   "outputs": [],
   "execution_count": null,
   "source": [
    "ollamamia.ls(details=True, log=True)\n",
    "ollamamia.rm()"
   ],
   "id": "81bced5cff67cd8d"
  },
  {
   "metadata": {},
   "cell_type": "markdown",
   "source": "# only in docker",
   "id": "20d44042e43a6eff"
  },
  {
   "metadata": {},
   "cell_type": "code",
   "outputs": [],
   "execution_count": null,
   "source": [
    "ollamamia.cmd()\n",
    "ollamamia.ollama_cmd()"
   ],
   "id": "d4dcb56635d6b89c"
  },
  {
   "metadata": {},
   "cell_type": "markdown",
   "source": "# help",
   "id": "38bbb57c6f913457"
  },
  {
   "metadata": {},
   "cell_type": "code",
   "outputs": [],
   "execution_count": null,
   "source": "ollamamia.Luminary()",
   "id": "da99d7d2447067e8"
  }
 ],
 "metadata": {
  "kernelspec": {
   "display_name": "Python 3",
   "language": "python",
   "name": "python3"
  },
  "language_info": {
   "codemirror_mode": {
    "name": "ipython",
    "version": 2
   },
   "file_extension": ".py",
   "mimetype": "text/x-python",
   "name": "python",
   "nbconvert_exporter": "python",
   "pygments_lexer": "ipython2",
   "version": "2.7.6"
  }
 },
 "nbformat": 4,
 "nbformat_minor": 5
}
