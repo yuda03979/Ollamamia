{
 "cells": [
  {
   "cell_type": "code",
   "id": "initial_id",
   "metadata": {
    "collapsed": true,
    "ExecuteTime": {
     "end_time": "2024-12-18T23:21:09.739783Z",
     "start_time": "2024-12-18T23:21:09.424154Z"
    }
   },
   "source": "from src.ollamamia import Ollamamia",
   "outputs": [],
   "execution_count": 1
  },
  {
   "metadata": {
    "ExecuteTime": {
     "end_time": "2024-12-18T23:21:09.755862Z",
     "start_time": "2024-12-18T23:21:09.740963Z"
    }
   },
   "cell_type": "code",
   "source": "ollamamia = Ollamamia(on_docker=True)",
   "id": "9bf6ef756a0b7d8c",
   "outputs": [],
   "execution_count": 2
  },
  {
   "metadata": {},
   "cell_type": "markdown",
   "source": "# manage models",
   "id": "4f2a08d003433d56"
  },
  {
   "metadata": {
    "ExecuteTime": {
     "end_time": "2024-12-18T23:21:10.041069Z",
     "start_time": "2024-12-18T23:21:10.017886Z"
    }
   },
   "cell_type": "code",
   "source": "ollamamia.funcs.ls(details=True)",
   "id": "58980b17ac40a859",
   "outputs": [
    {
     "data": {
      "text/plain": [
       "['llama3.2:1b',\n",
       " 'snowflake-arctic-embed:137m',\n",
       " 'paraphrase-multilingual:latest',\n",
       " 'bge-m3:latest',\n",
       " 'bge-large:latest',\n",
       " 'all-minilm:latest',\n",
       " 'snowflake-arctic-embed2:latest',\n",
       " 'snowflake-arctic-embed:33m',\n",
       " 'snowflake-arctic-embed:110m',\n",
       " 'snowflake-arctic-embed:latest',\n",
       " 'mxbai-embed-large:latest',\n",
       " 'nomic-embed-text:latest',\n",
       " 'gemma2:2b',\n",
       " 'gemma:latest',\n",
       " 'gemma-2b-it-gguf:latest']"
      ]
     },
     "execution_count": 3,
     "metadata": {},
     "output_type": "execute_result"
    }
   ],
   "execution_count": 3
  },
  {
   "metadata": {},
   "cell_type": "markdown",
   "source": "# infer",
   "id": "4f6e55a7359bcc35"
  },
  {
   "metadata": {
    "ExecuteTime": {
     "end_time": "2024-12-18T23:22:26.438268Z",
     "start_time": "2024-12-18T23:22:24.944351Z"
    }
   },
   "cell_type": "code",
   "source": [
    "query = \"\"\"hello, how are you? are you ok? generate 100 words\"\"\"\n",
    "\n",
    "# model = ollamamia.model.chat()\n",
    "model = ollamamia.model.generate(model_name=\"gemma2:2b\")\n",
    "# model = ollamamia.model.embed()\n",
    "\n",
    "infer = model << query  # support batching\n",
    "infer"
   ],
   "id": "fbbce2dd925f2533",
   "outputs": [
    {
     "data": {
      "text/plain": [
       "\"I am doing well!  As an AI, I don't experience emotions or physical states like humans do.  But I'm here and ready to assist you. 😊 \\n\\nWhat can I help you with today? Whether it's answering a question, writing something creative, or just having a casual conversation, I'm happy to be of service!  \\n\\n\\nLet me know how I can make your day better! \\n\""
      ]
     },
     "execution_count": 6,
     "metadata": {},
     "output_type": "execute_result"
    }
   ],
   "execution_count": 6
  },
  {
   "metadata": {
    "ExecuteTime": {
     "end_time": "2024-12-18T23:23:19.781937Z",
     "start_time": "2024-12-18T23:23:19.778863Z"
    }
   },
   "cell_type": "code",
   "source": "model.logs  # to see all the history",
   "id": "cb156269a842136c",
   "outputs": [
    {
     "data": {
      "text/plain": [
       "[GenerateResponse(model='gemma2:2b', created_at='2024-12-18T23:22:26.434539Z', done=True, done_reason='stop', total_duration=1486102625, load_duration=37772542, prompt_eval_count=25, prompt_eval_duration=125000000, eval_count=90, eval_duration=1322000000, response=\"I am doing well!  As an AI, I don't experience emotions or physical states like humans do.  But I'm here and ready to assist you. 😊 \\n\\nWhat can I help you with today? Whether it's answering a question, writing something creative, or just having a casual conversation, I'm happy to be of service!  \\n\\n\\nLet me know how I can make your day better! \\n\", context=[106, 1645, 108, 17534, 235269, 1368, 708, 692, 235336, 708, 692, 4634, 235336, 11941, 235248, 235274, 235276, 235276, 3907, 107, 108, 106, 2516, 108, 235285, 1144, 3900, 1578, 235341, 139, 2169, 671, 16481, 235269, 590, 1453, 235303, 235251, 3281, 22079, 689, 6915, 6246, 1154, 17611, 749, 235265, 139, 1860, 590, 235303, 235262, 1517, 578, 5628, 577, 5422, 692, 235265, 44416, 235248, 109, 1841, 798, 590, 1707, 692, 675, 3646, 235336, 19896, 665, 235303, 235256, 39534, 476, 2872, 235269, 6706, 2775, 12354, 235269, 689, 1317, 3372, 476, 14044, 12836, 235269, 590, 235303, 235262, 4915, 577, 614, 576, 2566, 235341, 139, 110, 5331, 682, 1230, 1368, 590, 798, 1501, 861, 1744, 2525, 235341, 235248, 108])]"
      ]
     },
     "execution_count": 9,
     "metadata": {},
     "output_type": "execute_result"
    }
   ],
   "execution_count": 9
  },
  {
   "metadata": {},
   "cell_type": "markdown",
   "source": "# tools",
   "id": "51557c2c63733604"
  },
  {
   "metadata": {},
   "cell_type": "code",
   "outputs": [],
   "execution_count": null,
   "source": "# ?",
   "id": "af412b86d073e185"
  },
  {
   "metadata": {},
   "cell_type": "markdown",
   "source": "# cli chat",
   "id": "2a6bcad3bd26a077"
  },
  {
   "metadata": {},
   "cell_type": "code",
   "outputs": [],
   "execution_count": null,
   "source": [
    "prompt = \"\"\n",
    "model = ollamamia.init.cli_chat()\n",
    "\n",
    "model << prompt"
   ],
   "id": "e2033077314328e1"
  },
  {
   "metadata": {},
   "cell_type": "markdown",
   "source": "# manage Ollama",
   "id": "4188b06b763c8f8f"
  },
  {
   "metadata": {},
   "cell_type": "code",
   "outputs": [],
   "execution_count": null,
   "source": "model.stop()",
   "id": "5019a8de44026980"
  },
  {
   "metadata": {},
   "cell_type": "code",
   "outputs": [],
   "execution_count": null,
   "source": [
    "ollamamia.ls(details=True, log=True)\n",
    "ollamamia.rm()"
   ],
   "id": "81bced5cff67cd8d"
  },
  {
   "metadata": {},
   "cell_type": "markdown",
   "source": "# only in docker",
   "id": "20d44042e43a6eff"
  },
  {
   "metadata": {},
   "cell_type": "code",
   "outputs": [],
   "execution_count": null,
   "source": [
    "ollamamia.cmd()\n",
    "ollamamia.ollama_cmd()"
   ],
   "id": "d4dcb56635d6b89c"
  },
  {
   "metadata": {},
   "cell_type": "markdown",
   "source": "# help",
   "id": "38bbb57c6f913457"
  },
  {
   "metadata": {},
   "cell_type": "code",
   "outputs": [],
   "execution_count": null,
   "source": "ollamamia.Luminary()",
   "id": "da99d7d2447067e8"
  }
 ],
 "metadata": {
  "kernelspec": {
   "display_name": "Python 3",
   "language": "python",
   "name": "python3"
  },
  "language_info": {
   "codemirror_mode": {
    "name": "ipython",
    "version": 2
   },
   "file_extension": ".py",
   "mimetype": "text/x-python",
   "name": "python",
   "nbconvert_exporter": "python",
   "pygments_lexer": "ipython2",
   "version": "2.7.6"
  }
 },
 "nbformat": 4,
 "nbformat_minor": 5
}
