{
 "cells": [
  {
   "cell_type": "code",
   "id": "initial_id",
   "metadata": {
    "collapsed": true,
    "ExecuteTime": {
     "end_time": "2024-12-22T10:31:03.833754Z",
     "start_time": "2024-12-22T10:31:03.574630Z"
    }
   },
   "source": "from src.ollamamia import Ollamamia",
   "outputs": [],
   "execution_count": 2
  },
  {
   "metadata": {
    "ExecuteTime": {
     "end_time": "2024-12-22T10:31:05.291571Z",
     "start_time": "2024-12-22T10:31:05.275956Z"
    }
   },
   "cell_type": "code",
   "source": "ollamamia = Ollamamia(on_docker=False)",
   "id": "9bf6ef756a0b7d8c",
   "outputs": [],
   "execution_count": 3
  },
  {
   "metadata": {
    "ExecuteTime": {
     "end_time": "2024-12-22T10:31:09.314256Z",
     "start_time": "2024-12-22T10:31:09.310511Z"
    }
   },
   "cell_type": "code",
   "source": [
    "model_config = ollamamia.model_config(model_name=\"gemma2:2b\", task=\"generate\")\n",
    "model_config.options.temperature = 0.0"
   ],
   "id": "d4106c5a776a477c",
   "outputs": [],
   "execution_count": 4
  },
  {
   "metadata": {
    "ExecuteTime": {
     "end_time": "2024-12-22T10:32:19.680941Z",
     "start_time": "2024-12-22T10:32:19.677799Z"
    }
   },
   "cell_type": "code",
   "source": "model_config.options.num_predict = 12\n",
   "id": "7524337dc87ec0d1",
   "outputs": [],
   "execution_count": 13
  },
  {
   "metadata": {
    "ExecuteTime": {
     "end_time": "2024-12-22T10:32:27.134495Z",
     "start_time": "2024-12-22T10:32:20.688646Z"
    }
   },
   "cell_type": "code",
   "source": "ollamamia[\"gemma2:2b\"] = model_config",
   "id": "645be39e091efb32",
   "outputs": [],
   "execution_count": 14
  },
  {
   "metadata": {
    "ExecuteTime": {
     "end_time": "2024-12-22T01:28:34.091017Z",
     "start_time": "2024-12-22T01:28:31.763667Z"
    }
   },
   "cell_type": "code",
   "source": "ollamamia[\"gemma2:2b\"] << \"it should be json. morning is 1, night is 0\"",
   "id": "739b967bf4463a63",
   "outputs": [
    {
     "data": {
      "text/plain": [
       "'```json\\n{\\n  \"time\": \"morning\",\\n  \"hour\": 1\\n}\\n```\\n\\n**Explanation:**\\n\\n* **`time`**: This key indicates the time of day, and it\\'s set to `morning`.\\n* **`hour`**: This key stores the hour (in this case, 1 for morning).\\n\\n\\nLet me know if you want to try a different scenario or have more questions about JSON. \\n'"
      ]
     },
     "execution_count": 9,
     "metadata": {},
     "output_type": "execute_result"
    }
   ],
   "execution_count": 9
  },
  {
   "metadata": {},
   "cell_type": "code",
   "outputs": [],
   "execution_count": null,
   "source": "",
   "id": "29c45ed6aa1bea72"
  },
  {
   "metadata": {
    "ExecuteTime": {
     "end_time": "2024-12-22T10:32:27.820358Z",
     "start_time": "2024-12-22T10:32:27.817535Z"
    }
   },
   "cell_type": "code",
   "source": "print(ollamamia._models_control.models['gemma2:2b'].config.options.num_predict)",
   "id": "7c0cee539acbf308",
   "outputs": [
    {
     "name": "stdout",
     "output_type": "stream",
     "text": [
      "None\n"
     ]
    }
   ],
   "execution_count": 15
  },
  {
   "metadata": {},
   "cell_type": "markdown",
   "source": "# help",
   "id": "38bbb57c6f913457"
  },
  {
   "metadata": {
    "ExecuteTime": {
     "end_time": "2024-12-22T01:17:15.873438Z",
     "start_time": "2024-12-22T01:17:15.646149Z"
    }
   },
   "cell_type": "code",
   "source": "ollamamia.Luminary()",
   "id": "da99d7d2447067e8",
   "outputs": [
    {
     "ename": "AttributeError",
     "evalue": "'Ollamamia' object has no attribute 'Luminary'",
     "output_type": "error",
     "traceback": [
      "\u001B[0;31m---------------------------------------------------------------------------\u001B[0m",
      "\u001B[0;31mAttributeError\u001B[0m                            Traceback (most recent call last)",
      "Cell \u001B[0;32mIn[7], line 1\u001B[0m\n\u001B[0;32m----> 1\u001B[0m ollamamia\u001B[38;5;241m.\u001B[39mLuminary()\n",
      "\u001B[0;31mAttributeError\u001B[0m: 'Ollamamia' object has no attribute 'Luminary'"
     ]
    }
   ],
   "execution_count": 7
  }
 ],
 "metadata": {
  "kernelspec": {
   "display_name": "Python 3",
   "language": "python",
   "name": "python3"
  },
  "language_info": {
   "codemirror_mode": {
    "name": "ipython",
    "version": 2
   },
   "file_extension": ".py",
   "mimetype": "text/x-python",
   "name": "python",
   "nbconvert_exporter": "python",
   "pygments_lexer": "ipython2",
   "version": "2.7.6"
  }
 },
 "nbformat": 4,
 "nbformat_minor": 5
}
