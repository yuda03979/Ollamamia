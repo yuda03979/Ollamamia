{
 "cells": [
  {
   "metadata": {},
   "cell_type": "markdown",
   "source": [
    "## first, download ollama\n",
    "## and run in the cli ```ollama serve```\n",
    "----------\n",
    "### on docker, just put ollama docker and your docker-program on the same pridge, using port 11434:11434"
   ],
   "id": "bebe0db89a666575"
  },
  {
   "cell_type": "code",
   "id": "initial_id",
   "metadata": {
    "collapsed": true,
    "ExecuteTime": {
     "end_time": "2024-12-24T22:52:44.251979Z",
     "start_time": "2024-12-24T22:52:44.022076Z"
    }
   },
   "source": "from ollamamia import Ollamamia",
   "outputs": [],
   "execution_count": 1
  },
  {
   "metadata": {
    "ExecuteTime": {
     "end_time": "2024-12-24T22:52:44.318212Z",
     "start_time": "2024-12-24T22:52:44.310603Z"
    }
   },
   "cell_type": "code",
   "source": "ollamamia = Ollamamia()",
   "id": "9bf6ef756a0b7d8c",
   "outputs": [],
   "execution_count": 2
  },
  {
   "metadata": {},
   "cell_type": "code",
   "outputs": [],
   "execution_count": null,
   "source": "model_name = \"gemma2:2b\"",
   "id": "86a9775440ff0895"
  },
  {
   "metadata": {
    "ExecuteTime": {
     "end_time": "2024-12-24T22:52:44.634366Z",
     "start_time": "2024-12-24T22:52:44.631796Z"
    }
   },
   "cell_type": "code",
   "source": [
    "model_config = ollamamia.model_config(model_name=model_name, task=\"generate\")\n",
    "model_config.options.temperature = 0.0\n",
    "model_config.format = 'json'\n",
    "model_config.options.num_predict = 100"
   ],
   "id": "d4106c5a776a477c",
   "outputs": [],
   "execution_count": 3
  },
  {
   "metadata": {},
   "cell_type": "markdown",
   "source": "# init the model:",
   "id": "5d4eae4d553e3d8d"
  },
  {
   "metadata": {
    "ExecuteTime": {
     "end_time": "2024-12-24T22:52:45.561100Z",
     "start_time": "2024-12-24T22:52:45.559068Z"
    }
   },
   "cell_type": "code",
   "source": [
    "# option 1\n",
    "ollamamia[model_name] = model_config\n",
    "# option 2\n",
    "ollamamia[model_name:model_config]"
   ],
   "id": "645be39e091efb32",
   "outputs": [],
   "execution_count": 5
  },
  {
   "metadata": {},
   "cell_type": "markdown",
   "source": "# inference",
   "id": "3dc214aca030ba"
  },
  {
   "metadata": {
    "ExecuteTime": {
     "end_time": "2024-12-23T14:13:03.574486Z",
     "start_time": "2024-12-23T14:13:03.572615Z"
    }
   },
   "cell_type": "code",
   "source": [
    "query = \"120 / 32.3\"\n",
    "\n",
    "# option 1:\n",
    "response = ollamamia.infer(model_name=model_name, query=query)\n",
    "# option 2:\n",
    "response = ollamamia[model_name] << query\n",
    "# option 3:\n",
    "response = ollamamia[model_name::query]\n",
    "\n",
    "response"
   ],
   "id": "29c45ed6aa1bea72",
   "outputs": [],
   "execution_count": 7
  },
  {
   "metadata": {},
   "cell_type": "code",
   "outputs": [],
   "execution_count": null,
   "source": [
    "# note - you can do it all at once:\n",
    "ollamamia[model_name:model_config:query]"
   ],
   "id": "76a857b3d100d48c"
  },
  {
   "metadata": {},
   "cell_type": "markdown",
   "source": "# choose one option as you like. its not that complicated...",
   "id": "e3d99b179586922e"
  },
  {
   "metadata": {},
   "cell_type": "markdown",
   "source": "",
   "id": "38bbb57c6f913457"
  },
  {
   "metadata": {
    "ExecuteTime": {
     "end_time": "2024-12-23T14:13:03.819102Z",
     "start_time": "2024-12-23T14:13:03.578079Z"
    }
   },
   "cell_type": "code",
   "source": "",
   "id": "da99d7d2447067e8",
   "outputs": [
    {
     "ename": "AttributeError",
     "evalue": "'Ollamamia' object has no attribute 'Luminary'",
     "output_type": "error",
     "traceback": [
      "\u001B[0;31m---------------------------------------------------------------------------\u001B[0m",
      "\u001B[0;31mAttributeError\u001B[0m                            Traceback (most recent call last)",
      "Cell \u001B[0;32mIn[9], line 1\u001B[0m\n\u001B[0;32m----> 1\u001B[0m ollamamia\u001B[38;5;241m.\u001B[39mLuminary()\n",
      "\u001B[0;31mAttributeError\u001B[0m: 'Ollamamia' object has no attribute 'Luminary'"
     ]
    }
   ],
   "execution_count": 9
  },
  {
   "metadata": {
    "ExecuteTime": {
     "end_time": "2024-12-23T14:13:03.819954Z",
     "start_time": "2024-12-23T14:13:03.819889Z"
    }
   },
   "cell_type": "code",
   "source": [
    "model_config = ollamamia.model_config(model_name=\"snowflake-arctic-embed:137m\", task=\"embed\")\n",
    "query = \"its so easy! but i also can use simply in ollama. but it make my life easier and me stupider!!!\""
   ],
   "id": "b361733061dc4f47",
   "outputs": [],
   "execution_count": null
  },
  {
   "metadata": {},
   "cell_type": "code",
   "source": "ollamamia[\"rag_model\":model_config:query] # in embed it also can be list of queries.",
   "id": "7a1351bf426241c4",
   "outputs": [],
   "execution_count": null
  },
  {
   "metadata": {},
   "cell_type": "markdown",
   "source": "# simple chat",
   "id": "b29dc04bd9c8453c"
  },
  {
   "metadata": {},
   "cell_type": "code",
   "outputs": [],
   "execution_count": null,
   "source": "ollamamia.chitchat(model_name=model_name, prompt=None)",
   "id": "a54376cf7943ff36"
  },
  {
   "metadata": {},
   "cell_type": "markdown",
   "source": "# help",
   "id": "d8a57ac0581acba7"
  },
  {
   "metadata": {},
   "cell_type": "code",
   "outputs": [],
   "execution_count": null,
   "source": [
    "# don't work. in the future...\n",
    "ollamamia.Luminary()"
   ],
   "id": "f3b866ad618046a6"
  }
 ],
 "metadata": {
  "kernelspec": {
   "display_name": "Python 3",
   "language": "python",
   "name": "python3"
  },
  "language_info": {
   "codemirror_mode": {
    "name": "ipython",
    "version": 2
   },
   "file_extension": ".py",
   "mimetype": "text/x-python",
   "name": "python",
   "nbconvert_exporter": "python",
   "pygments_lexer": "ipython2",
   "version": "2.7.6"
  }
 },
 "nbformat": 4,
 "nbformat_minor": 5
}
